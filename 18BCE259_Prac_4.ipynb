{
  "nbformat": 4,
  "nbformat_minor": 2,
  "metadata": {
    "orig_nbformat": 4,
    "language_info": {
      "name": "python",
      "version": "3.8.10",
      "mimetype": "text/x-python",
      "codemirror_mode": {
        "name": "ipython",
        "version": 3
      },
      "pygments_lexer": "ipython3",
      "nbconvert_exporter": "python",
      "file_extension": ".py"
    },
    "kernelspec": {
      "name": "python3",
      "display_name": "Python 3.8.10 64-bit ('AI': venv)"
    },
    "interpreter": {
      "hash": "0ce71f0e572107b82f456cc862a5ea5bb83cb9ad173f20b1beeab8973639bcf8"
    },
    "colab": {
      "name": "18BCE259_Prac_2.ipynb",
      "provenance": []
    }
  },
  "cells": [
    {
      "cell_type": "markdown",
      "source": [
        "# Artificial Intelligence Practical 4"
      ],
      "metadata": {
        "id": "Vd2p9EfVxb-m"
      }
    },
    {
      "cell_type": "markdown",
      "source": [
        "## 18BCE259: Shrey Viradiya"
      ],
      "metadata": {
        "id": "pYrxUu2dxb-q"
      }
    },
    {
      "cell_type": "markdown",
      "source": [
        "### AIM: Implement the 8 puzzle problem using A* Algorithm"
      ],
      "metadata": {
        "id": "phdkOMHBxb-r"
      }
    },
    {
      "cell_type": "markdown",
      "source": [
        "8 puzzle problem is about reaching the final state from any intermediary state. Final State is defined as below:\n",
        "```\n",
        " 1 | 2 | 3 \n",
        "-----------\n",
        " 4 | 5 | 6 \n",
        "-----------\n",
        " 7 | 8 |   \n",
        " ```"
      ],
      "metadata": {
        "id": "U1jNzddMxb-s"
      }
    },
    {
      "cell_type": "markdown",
      "source": [
        "### Misplaced Tiles\n",
        "\n",
        "This heuristic function returns integer representing the number of tiles no in the correct possition"
      ],
      "metadata": {}
    },
    {
      "cell_type": "markdown",
      "source": [
        "### Manhattan Distance\n",
        "\n",
        "This heuristic function returns integer giving sum of manhatten distance of the each tile with its correct position"
      ],
      "metadata": {}
    },
    {
      "cell_type": "code",
      "execution_count": 1,
      "source": [
        "import numpy as np"
      ],
      "outputs": [],
      "metadata": {
        "id": "nyRob1lExb-s"
      }
    },
    {
      "cell_type": "code",
      "execution_count": 2,
      "source": [
        "class Node:\n",
        "    def __init__(self, data, parent, act, g, h_ = 0):\n",
        "        self.data = data\n",
        "        self.parent = parent\n",
        "        self.act = act\n",
        "        self.g = g\n",
        "        self.h_ = h_\n",
        "\n",
        "    def __str__(self):\n",
        "        return self.data.__repr__() "
      ],
      "outputs": [],
      "metadata": {
        "id": "XoHfVcR4xb-t"
      }
    },
    {
      "cell_type": "code",
      "execution_count": 3,
      "source": [
        "initial_node = Node(np.array([[1,2,3],[4,0,6],[7,5,8]]), None, None, 0, 0)"
      ],
      "outputs": [],
      "metadata": {
        "id": "-sL971tExb-u"
      }
    },
    {
      "cell_type": "code",
      "execution_count": 4,
      "source": [
        "def whereEmpty(node):\n",
        "    return np.argwhere(node.data == 0)[0]\n",
        "\n",
        "whereEmpty(initial_node)"
      ],
      "outputs": [
        {
          "output_type": "execute_result",
          "data": {
            "text/plain": [
              "array([1, 1])"
            ]
          },
          "metadata": {},
          "execution_count": 4
        }
      ],
      "metadata": {
        "id": "wcIvaQ1vxb-u",
        "outputId": "e3611126-763d-4fef-d7ad-319812bee69e",
        "colab": {
          "base_uri": "https://localhost:8080/"
        }
      }
    },
    {
      "cell_type": "code",
      "execution_count": 5,
      "source": [
        "print(initial_node)"
      ],
      "outputs": [
        {
          "output_type": "stream",
          "name": "stdout",
          "text": [
            "array([[1, 2, 3],\n",
            "       [4, 0, 6],\n",
            "       [7, 5, 8]])\n"
          ]
        }
      ],
      "metadata": {
        "id": "zmR4p4oQxb-w",
        "outputId": "09d600c3-e430-4b5c-dc7f-879e5a5ab416",
        "colab": {
          "base_uri": "https://localhost:8080/"
        }
      }
    },
    {
      "cell_type": "code",
      "execution_count": 6,
      "source": [
        "def misplaced_tiles(data):\n",
        "    return 9 - np.sum(data == np.array([[1,2,3],[4,5,6],[7,8,0]]))"
      ],
      "outputs": [],
      "metadata": {}
    },
    {
      "cell_type": "code",
      "execution_count": 7,
      "source": [
        "def manhattan_distance(data):\n",
        "    place = {\n",
        "        0: (2,2),\n",
        "        1: (0,0),\n",
        "        2: (0,1),\n",
        "        3: (0,2),\n",
        "        4: (1,0), \n",
        "        5: (1,1),\n",
        "        6: (1,2),\n",
        "        7: (2,0),\n",
        "        8: (2,1)\n",
        "    }\n",
        "    md = 0\n",
        "    for (x,y),d in np.ndenumerate(data):\n",
        "        md += abs(place[d][0] - x) + abs(place[d][1] - y)\n",
        "    return md"
      ],
      "outputs": [],
      "metadata": {}
    },
    {
      "cell_type": "code",
      "execution_count": 8,
      "source": [
        "def canMoveLeft(node):\n",
        "    return whereEmpty(node)[1] != 0\n",
        "\n",
        "def moveLeft(node, h_function):\n",
        "    pointer = whereEmpty(node)\n",
        "    new_Node = Node(np.copy(node.data), node, 'left', node.g + 1)    \n",
        "\n",
        "    temp = new_Node.data[pointer[0], pointer[1] - 1]\n",
        "    new_Node.data[pointer[0], pointer[1] - 1] = new_Node.data[pointer[0], pointer[1]]\n",
        "    new_Node.data[pointer[0], pointer[1]] = temp\n",
        "    \n",
        "    new_Node.h_ = h_function(new_Node.data)\n",
        "\n",
        "    return new_Node\n",
        "\n",
        "print(canMoveLeft(initial_node))\n",
        "print(moveLeft(initial_node, misplaced_tiles))"
      ],
      "outputs": [
        {
          "output_type": "stream",
          "name": "stdout",
          "text": [
            "True\n",
            "array([[1, 2, 3],\n",
            "       [0, 4, 6],\n",
            "       [7, 5, 8]])\n"
          ]
        }
      ],
      "metadata": {
        "id": "N2jjX00yxb-w",
        "outputId": "ce40840b-fe0f-4fdf-a333-f6c07b43ece8",
        "colab": {
          "base_uri": "https://localhost:8080/"
        }
      }
    },
    {
      "cell_type": "code",
      "execution_count": 9,
      "source": [
        "def canMoveRight(node):\n",
        "    return whereEmpty(node)[1] != 2\n",
        "\n",
        "def moveRight(node, h_function):\n",
        "    pointer = whereEmpty(node)\n",
        "    new_Node = Node(np.copy(node.data), node, 'right', node.g + 1)\n",
        "    \n",
        "    temp = new_Node.data[pointer[0], pointer[1] + 1]\n",
        "    new_Node.data[pointer[0], pointer[1] + 1] = new_Node.data[pointer[0], pointer[1]]\n",
        "    new_Node.data[pointer[0], pointer[1]] = temp\n",
        "\n",
        "    new_Node.h_ = h_function(new_Node.data)\n",
        "    \n",
        "    return new_Node\n",
        "\n",
        "print(canMoveRight(initial_node))\n",
        "print(moveRight(initial_node, misplaced_tiles))"
      ],
      "outputs": [
        {
          "output_type": "stream",
          "name": "stdout",
          "text": [
            "True\n",
            "array([[1, 2, 3],\n",
            "       [4, 6, 0],\n",
            "       [7, 5, 8]])\n"
          ]
        }
      ],
      "metadata": {
        "id": "08whK2sJxb-x",
        "outputId": "a349490c-665f-43b9-d807-39763f3a33a2",
        "colab": {
          "base_uri": "https://localhost:8080/"
        }
      }
    },
    {
      "cell_type": "code",
      "execution_count": 10,
      "source": [
        "def canMoveUp(node):\n",
        "    return whereEmpty(node)[0] != 0\n",
        "\n",
        "def moveUp(node, h_function):\n",
        "    pointer = whereEmpty(node)\n",
        "    \n",
        "    new_Node = Node(np.copy(node.data), node, 'up', node.g + 1)\n",
        "    \n",
        "\n",
        "    temp = new_Node.data[pointer[0] - 1, pointer[1]]\n",
        "    new_Node.data[pointer[0] - 1, pointer[1]] = new_Node.data[pointer[0], pointer[1]]\n",
        "    new_Node.data[pointer[0], pointer[1]] = temp\n",
        "\n",
        "    new_Node.h_ = h_function(new_Node.data)\n",
        "    \n",
        "    return new_Node\n",
        "\n",
        "print(canMoveUp(initial_node))\n",
        "print(moveUp(initial_node, misplaced_tiles))"
      ],
      "outputs": [
        {
          "output_type": "stream",
          "name": "stdout",
          "text": [
            "True\n",
            "array([[1, 0, 3],\n",
            "       [4, 2, 6],\n",
            "       [7, 5, 8]])\n"
          ]
        }
      ],
      "metadata": {
        "id": "6kwiHt6Jxb-x",
        "outputId": "d0c80511-7062-45cf-e2eb-59d6e1c59701",
        "colab": {
          "base_uri": "https://localhost:8080/"
        }
      }
    },
    {
      "cell_type": "code",
      "execution_count": 11,
      "source": [
        "def canMoveDown(node):\n",
        "    return whereEmpty(node)[0] != 2\n",
        "\n",
        "def moveDown(node, h_function):\n",
        "    pointer = whereEmpty(node)\n",
        "    new_Node = Node(np.copy(node.data), node, 'down', node.g + 1)\n",
        "\n",
        "    temp = new_Node.data[pointer[0] + 1, pointer[1]]\n",
        "    new_Node.data[pointer[0] + 1, pointer[1]] = new_Node.data[pointer[0], pointer[1]]\n",
        "    new_Node.data[pointer[0], pointer[1]] = temp\n",
        "\n",
        "    new_Node.h_ = h_function(new_Node.data)\n",
        "    \n",
        "    return new_Node\n",
        "\n",
        "print(canMoveDown(initial_node))\n",
        "print(moveDown(initial_node, misplaced_tiles))"
      ],
      "outputs": [
        {
          "output_type": "stream",
          "name": "stdout",
          "text": [
            "True\n",
            "array([[1, 2, 3],\n",
            "       [4, 5, 6],\n",
            "       [7, 0, 8]])\n"
          ]
        }
      ],
      "metadata": {
        "id": "r4Vvzf1hxb-y",
        "outputId": "d824a9ba-d4eb-4732-a889-3a69003ce148",
        "colab": {
          "base_uri": "https://localhost:8080/"
        }
      }
    },
    {
      "cell_type": "code",
      "execution_count": 12,
      "source": [
        "def CheckIfFinal(node):\n",
        "    return np.all(node.data == np.array([[1,2,3],[4,5,6],[7,8,0]]))\n",
        "\n",
        "CheckIfFinal(initial_node)"
      ],
      "outputs": [
        {
          "output_type": "execute_result",
          "data": {
            "text/plain": [
              "False"
            ]
          },
          "metadata": {},
          "execution_count": 12
        }
      ],
      "metadata": {
        "id": "ZgjZlp8Hxb-y",
        "outputId": "17e55821-d9c5-43af-f116-5b8a4fc9655b",
        "colab": {
          "base_uri": "https://localhost:8080/"
        }
      }
    },
    {
      "cell_type": "code",
      "execution_count": 13,
      "source": [
        "# Python3 program to check if a given\n",
        "# instance of 8 puzzle is solvable or not\n",
        " \n",
        "# A utility function to count\n",
        "# inversions in given array 'arr[]'\n",
        "\n",
        "def getInvCount(arr):\n",
        "    inv_count = 0\n",
        "    empty_value = -1\n",
        "    for i in range(0, 9):\n",
        "        for j in range(i + 1, 9):\n",
        "            if arr[j] != empty_value and arr[i] != empty_value and arr[i] > arr[j]:\n",
        "                inv_count += 1\n",
        "    return inv_count\n",
        " \n",
        "     \n",
        "# This function returns true\n",
        "# if given 8 puzzle is solvable.\n",
        "def isSolvable(puzzle) :\n",
        " \n",
        "    # Count inversions in given 8 puzzle\n",
        "    inv_count = getInvCount([j for sub in puzzle for j in sub])\n",
        " \n",
        "    # return true if inversion count is even.\n",
        "    return (inv_count % 2 == 0)\n",
        "     \n",
        "    # Driver code\n",
        "puzzle = [[4, 1, 0], [7, 2, 3], [5, 8, 6]]\n",
        "if(isSolvable(puzzle)) :\n",
        "    print(\"Solvable\")\n",
        "else :\n",
        "    print(\"Not Solvable\")"
      ],
      "outputs": [
        {
          "output_type": "stream",
          "name": "stdout",
          "text": [
            "Solvable\n"
          ]
        }
      ],
      "metadata": {
        "id": "Gk6nMvBmzbij",
        "outputId": "9a94fc99-a9c7-432f-e0a2-0d14cb728414",
        "colab": {
          "base_uri": "https://localhost:8080/"
        }
      }
    },
    {
      "cell_type": "code",
      "execution_count": 14,
      "source": [
        "import random\n",
        "\n",
        "def generatePuzzle(dep):\n",
        "    node = Node(np.array([[1,2,3],[4,5,6],[7,8,0]]), None, None, 0)\n",
        "\n",
        "    while (node.g != dep):\n",
        "        step = random.randint(1,4)\n",
        "\n",
        "        if step == 1 and canMoveLeft(node) and node.act != \"right\":\n",
        "            node = moveLeft(node, misplaced_tiles)\n",
        "        elif step == 2 and canMoveRight(node) and node.act != \"left\":\n",
        "            node = moveRight(node, misplaced_tiles)\n",
        "        elif step == 3 and canMoveUp(node) and node.act != \"down\":\n",
        "            node = moveUp(node, misplaced_tiles)\n",
        "        elif step == 4 and canMoveDown(node) and node.act != \"up\":\n",
        "            node = moveDown(node, misplaced_tiles)\n",
        "        else:\n",
        "            continue\n",
        "        print(node)\n",
        "\n",
        "generatePuzzle(50)"
      ],
      "outputs": [
        {
          "output_type": "stream",
          "name": "stdout",
          "text": [
            "array([[1, 2, 3],\n",
            "       [4, 5, 6],\n",
            "       [7, 0, 8]])\n",
            "array([[1, 2, 3],\n",
            "       [4, 0, 6],\n",
            "       [7, 5, 8]])\n",
            "array([[1, 2, 3],\n",
            "       [4, 6, 0],\n",
            "       [7, 5, 8]])\n",
            "array([[1, 2, 3],\n",
            "       [4, 6, 8],\n",
            "       [7, 5, 0]])\n",
            "array([[1, 2, 3],\n",
            "       [4, 6, 8],\n",
            "       [7, 0, 5]])\n",
            "array([[1, 2, 3],\n",
            "       [4, 6, 8],\n",
            "       [0, 7, 5]])\n",
            "array([[1, 2, 3],\n",
            "       [0, 6, 8],\n",
            "       [4, 7, 5]])\n",
            "array([[0, 2, 3],\n",
            "       [1, 6, 8],\n",
            "       [4, 7, 5]])\n",
            "array([[2, 0, 3],\n",
            "       [1, 6, 8],\n",
            "       [4, 7, 5]])\n",
            "array([[2, 3, 0],\n",
            "       [1, 6, 8],\n",
            "       [4, 7, 5]])\n",
            "array([[2, 3, 8],\n",
            "       [1, 6, 0],\n",
            "       [4, 7, 5]])\n",
            "array([[2, 3, 8],\n",
            "       [1, 6, 5],\n",
            "       [4, 7, 0]])\n",
            "array([[2, 3, 8],\n",
            "       [1, 6, 5],\n",
            "       [4, 0, 7]])\n",
            "array([[2, 3, 8],\n",
            "       [1, 0, 5],\n",
            "       [4, 6, 7]])\n",
            "array([[2, 3, 8],\n",
            "       [0, 1, 5],\n",
            "       [4, 6, 7]])\n",
            "array([[0, 3, 8],\n",
            "       [2, 1, 5],\n",
            "       [4, 6, 7]])\n",
            "array([[3, 0, 8],\n",
            "       [2, 1, 5],\n",
            "       [4, 6, 7]])\n",
            "array([[3, 8, 0],\n",
            "       [2, 1, 5],\n",
            "       [4, 6, 7]])\n",
            "array([[3, 8, 5],\n",
            "       [2, 1, 0],\n",
            "       [4, 6, 7]])\n",
            "array([[3, 8, 5],\n",
            "       [2, 0, 1],\n",
            "       [4, 6, 7]])\n",
            "array([[3, 8, 5],\n",
            "       [2, 6, 1],\n",
            "       [4, 0, 7]])\n",
            "array([[3, 8, 5],\n",
            "       [2, 6, 1],\n",
            "       [0, 4, 7]])\n",
            "array([[3, 8, 5],\n",
            "       [0, 6, 1],\n",
            "       [2, 4, 7]])\n",
            "array([[0, 8, 5],\n",
            "       [3, 6, 1],\n",
            "       [2, 4, 7]])\n",
            "array([[8, 0, 5],\n",
            "       [3, 6, 1],\n",
            "       [2, 4, 7]])\n",
            "array([[8, 5, 0],\n",
            "       [3, 6, 1],\n",
            "       [2, 4, 7]])\n",
            "array([[8, 5, 1],\n",
            "       [3, 6, 0],\n",
            "       [2, 4, 7]])\n",
            "array([[8, 5, 1],\n",
            "       [3, 6, 7],\n",
            "       [2, 4, 0]])\n",
            "array([[8, 5, 1],\n",
            "       [3, 6, 7],\n",
            "       [2, 0, 4]])\n",
            "array([[8, 5, 1],\n",
            "       [3, 0, 7],\n",
            "       [2, 6, 4]])\n",
            "array([[8, 0, 1],\n",
            "       [3, 5, 7],\n",
            "       [2, 6, 4]])\n",
            "array([[0, 8, 1],\n",
            "       [3, 5, 7],\n",
            "       [2, 6, 4]])\n",
            "array([[3, 8, 1],\n",
            "       [0, 5, 7],\n",
            "       [2, 6, 4]])\n",
            "array([[3, 8, 1],\n",
            "       [2, 5, 7],\n",
            "       [0, 6, 4]])\n",
            "array([[3, 8, 1],\n",
            "       [2, 5, 7],\n",
            "       [6, 0, 4]])\n",
            "array([[3, 8, 1],\n",
            "       [2, 0, 7],\n",
            "       [6, 5, 4]])\n",
            "array([[3, 8, 1],\n",
            "       [2, 7, 0],\n",
            "       [6, 5, 4]])\n",
            "array([[3, 8, 1],\n",
            "       [2, 7, 4],\n",
            "       [6, 5, 0]])\n",
            "array([[3, 8, 1],\n",
            "       [2, 7, 4],\n",
            "       [6, 0, 5]])\n",
            "array([[3, 8, 1],\n",
            "       [2, 0, 4],\n",
            "       [6, 7, 5]])\n",
            "array([[3, 0, 1],\n",
            "       [2, 8, 4],\n",
            "       [6, 7, 5]])\n",
            "array([[0, 3, 1],\n",
            "       [2, 8, 4],\n",
            "       [6, 7, 5]])\n",
            "array([[2, 3, 1],\n",
            "       [0, 8, 4],\n",
            "       [6, 7, 5]])\n",
            "array([[2, 3, 1],\n",
            "       [6, 8, 4],\n",
            "       [0, 7, 5]])\n",
            "array([[2, 3, 1],\n",
            "       [6, 8, 4],\n",
            "       [7, 0, 5]])\n",
            "array([[2, 3, 1],\n",
            "       [6, 8, 4],\n",
            "       [7, 5, 0]])\n",
            "array([[2, 3, 1],\n",
            "       [6, 8, 0],\n",
            "       [7, 5, 4]])\n",
            "array([[2, 3, 1],\n",
            "       [6, 0, 8],\n",
            "       [7, 5, 4]])\n",
            "array([[2, 3, 1],\n",
            "       [0, 6, 8],\n",
            "       [7, 5, 4]])\n",
            "array([[0, 3, 1],\n",
            "       [2, 6, 8],\n",
            "       [7, 5, 4]])\n"
          ]
        }
      ],
      "metadata": {}
    },
    {
      "cell_type": "code",
      "execution_count": 15,
      "source": [
        "def A_star(initial_node, h_function):\n",
        "\n",
        "    if(not isSolvable(initial_node.data)):\n",
        "        print(\"Puzzle Not Solvable\")\n",
        "        return\n",
        "        \n",
        "    Closed = []\n",
        "    Opened = [initial_node]\n",
        "\n",
        "    min_node = None\n",
        "\n",
        "    while True:\n",
        "\n",
        "        if(len(Opened) == 0):\n",
        "            return False\n",
        "\n",
        "        min_node = Opened[0]\n",
        "        for n in Opened:\n",
        "            if ((n.g+n.h_) < (min_node.g+min_node.h_)):\n",
        "                min_node = n\n",
        "\n",
        "        Opened.remove(min_node)\n",
        "        Closed.append(min_node)\n",
        "\n",
        "        if(CheckIfFinal(min_node)):\n",
        "            print(\"Final State Obtained\")\n",
        "            break\n",
        "        \n",
        "        if canMoveLeft(min_node) and min_node.act != \"right\":\n",
        "            node_l = moveLeft(min_node, h_function)\n",
        "            if(CheckIfFinal(node_l)):\n",
        "                print(\"Final State Obtained\")\n",
        "                min_node = node_l\n",
        "                break\n",
        "            Opened.append(node_l)\n",
        "        if canMoveRight(min_node) and min_node.act != \"left\":\n",
        "            node_r = moveRight(min_node, h_function)\n",
        "            if(CheckIfFinal(node_r)):\n",
        "                print(\"Final State Obtained\")\n",
        "                min_node = node_r\n",
        "                break\n",
        "            Opened.append(node_r)\n",
        "        if canMoveUp(min_node) and min_node.act != \"down\":\n",
        "            node_u = moveUp(min_node, h_function)\n",
        "            if(CheckIfFinal(node_u)):\n",
        "                print(\"Final State Obtained\")\n",
        "                min_node = node_u\n",
        "                break\n",
        "            Opened.append(node_u)\n",
        "        if canMoveDown(min_node) and min_node.act != \"up\":\n",
        "            node_d = moveDown(min_node, h_function)\n",
        "            if(CheckIfFinal(node_d)):\n",
        "                print(\"Final State Obtained\")\n",
        "                min_node = node_d\n",
        "                break\n",
        "            Opened.append(node_d)\n",
        "\n",
        "    moves = []\n",
        "    while (min_node != None):\n",
        "        moves.insert(0, min_node.act)\n",
        "        min_node = min_node.parent\n",
        "\n",
        "    print(f\"Solution: {len(moves) - 1} moves\")\n",
        "    print(\"===========================\")\n",
        "    print(\"Initial Node: \")\n",
        "\n",
        "    node = initial_node\n",
        "    for move in moves:\n",
        "        print(move)\n",
        "        if move == 'left':\n",
        "            node = moveLeft(node, misplaced_tiles)\n",
        "        elif move == 'right':\n",
        "            node = moveRight(node, misplaced_tiles)\n",
        "        elif move == 'up':\n",
        "            node = moveUp(node, misplaced_tiles)\n",
        "        elif move == 'down':\n",
        "            node = moveDown(node, misplaced_tiles)\n",
        "        print(node)\n",
        "\n",
        "    return True"
      ],
      "outputs": [],
      "metadata": {
        "id": "B3t8tg8gxb-z"
      }
    },
    {
      "cell_type": "code",
      "execution_count": 16,
      "source": [
        "A_star(initial_node, misplaced_tiles)"
      ],
      "outputs": [
        {
          "output_type": "stream",
          "name": "stdout",
          "text": [
            "Final State Obtained\n",
            "Solution: 2 moves\n",
            "===========================\n",
            "Initial Node: \n",
            "None\n",
            "array([[1, 2, 3],\n",
            "       [4, 0, 6],\n",
            "       [7, 5, 8]])\n",
            "down\n",
            "array([[1, 2, 3],\n",
            "       [4, 5, 6],\n",
            "       [7, 0, 8]])\n",
            "right\n",
            "array([[1, 2, 3],\n",
            "       [4, 5, 6],\n",
            "       [7, 8, 0]])\n"
          ]
        },
        {
          "output_type": "execute_result",
          "data": {
            "text/plain": [
              "True"
            ]
          },
          "metadata": {},
          "execution_count": 16
        }
      ],
      "metadata": {
        "id": "Jt2zZPE_xb-z",
        "outputId": "1cf630e6-8e55-4d1a-ccf8-8800688cb6ce",
        "colab": {
          "base_uri": "https://localhost:8080/"
        }
      }
    },
    {
      "cell_type": "code",
      "execution_count": 17,
      "source": [
        "%%time\n",
        "initial_node = Node(np.array([[0,1,3],[4,2,6],[7,5,8]]), None, None, 0)\n",
        "A_star(initial_node, misplaced_tiles)"
      ],
      "outputs": [
        {
          "output_type": "stream",
          "name": "stdout",
          "text": [
            "Final State Obtained\n",
            "Solution: 4 moves\n",
            "===========================\n",
            "Initial Node: \n",
            "None\n",
            "array([[0, 1, 3],\n",
            "       [4, 2, 6],\n",
            "       [7, 5, 8]])\n",
            "right\n",
            "array([[1, 0, 3],\n",
            "       [4, 2, 6],\n",
            "       [7, 5, 8]])\n",
            "down\n",
            "array([[1, 2, 3],\n",
            "       [4, 0, 6],\n",
            "       [7, 5, 8]])\n",
            "down\n",
            "array([[1, 2, 3],\n",
            "       [4, 5, 6],\n",
            "       [7, 0, 8]])\n",
            "right\n",
            "array([[1, 2, 3],\n",
            "       [4, 5, 6],\n",
            "       [7, 8, 0]])\n",
            "CPU times: user 4.7 ms, sys: 149 µs, total: 4.85 ms\n",
            "Wall time: 5.48 ms\n"
          ]
        },
        {
          "output_type": "execute_result",
          "data": {
            "text/plain": [
              "True"
            ]
          },
          "metadata": {},
          "execution_count": 17
        }
      ],
      "metadata": {
        "id": "egb1axkLxb-z"
      }
    },
    {
      "cell_type": "code",
      "execution_count": 18,
      "source": [
        "%%time\n",
        "initial_node = Node(np.array([[4, 3, 6], [2, 0, 1], [7, 5, 8]]), None, None, 0)\n",
        "A_star(initial_node, misplaced_tiles)"
      ],
      "outputs": [
        {
          "output_type": "stream",
          "name": "stdout",
          "text": [
            "Final State Obtained\n",
            "Solution: 10 moves\n",
            "===========================\n",
            "Initial Node: \n",
            "None\n",
            "array([[4, 3, 6],\n",
            "       [2, 0, 1],\n",
            "       [7, 5, 8]])\n",
            "right\n",
            "array([[4, 3, 6],\n",
            "       [2, 1, 0],\n",
            "       [7, 5, 8]])\n",
            "up\n",
            "array([[4, 3, 0],\n",
            "       [2, 1, 6],\n",
            "       [7, 5, 8]])\n",
            "left\n",
            "array([[4, 0, 3],\n",
            "       [2, 1, 6],\n",
            "       [7, 5, 8]])\n",
            "down\n",
            "array([[4, 1, 3],\n",
            "       [2, 0, 6],\n",
            "       [7, 5, 8]])\n",
            "left\n",
            "array([[4, 1, 3],\n",
            "       [0, 2, 6],\n",
            "       [7, 5, 8]])\n",
            "up\n",
            "array([[0, 1, 3],\n",
            "       [4, 2, 6],\n",
            "       [7, 5, 8]])\n",
            "right\n",
            "array([[1, 0, 3],\n",
            "       [4, 2, 6],\n",
            "       [7, 5, 8]])\n",
            "down\n",
            "array([[1, 2, 3],\n",
            "       [4, 0, 6],\n",
            "       [7, 5, 8]])\n",
            "down\n",
            "array([[1, 2, 3],\n",
            "       [4, 5, 6],\n",
            "       [7, 0, 8]])\n",
            "right\n",
            "array([[1, 2, 3],\n",
            "       [4, 5, 6],\n",
            "       [7, 8, 0]])\n",
            "CPU times: user 6.82 ms, sys: 7.84 ms, total: 14.7 ms\n",
            "Wall time: 15.6 ms\n"
          ]
        },
        {
          "output_type": "execute_result",
          "data": {
            "text/plain": [
              "True"
            ]
          },
          "metadata": {},
          "execution_count": 18
        }
      ],
      "metadata": {
        "id": "SVZ1qNNsxb-0"
      }
    },
    {
      "cell_type": "code",
      "execution_count": 19,
      "source": [
        "%%time\n",
        "initial_node = Node(np.array([[0,1,2],[4,5,3],[7,8,6]]), None, None, 0)\n",
        "A_star(initial_node, misplaced_tiles)"
      ],
      "outputs": [
        {
          "output_type": "stream",
          "name": "stdout",
          "text": [
            "Final State Obtained\n",
            "Solution: 4 moves\n",
            "===========================\n",
            "Initial Node: \n",
            "None\n",
            "array([[0, 1, 2],\n",
            "       [4, 5, 3],\n",
            "       [7, 8, 6]])\n",
            "right\n",
            "array([[1, 0, 2],\n",
            "       [4, 5, 3],\n",
            "       [7, 8, 6]])\n",
            "right\n",
            "array([[1, 2, 0],\n",
            "       [4, 5, 3],\n",
            "       [7, 8, 6]])\n",
            "down\n",
            "array([[1, 2, 3],\n",
            "       [4, 5, 0],\n",
            "       [7, 8, 6]])\n",
            "down\n",
            "array([[1, 2, 3],\n",
            "       [4, 5, 6],\n",
            "       [7, 8, 0]])\n",
            "CPU times: user 2.29 ms, sys: 3.64 ms, total: 5.93 ms\n",
            "Wall time: 5.57 ms\n"
          ]
        },
        {
          "output_type": "execute_result",
          "data": {
            "text/plain": [
              "True"
            ]
          },
          "metadata": {},
          "execution_count": 19
        }
      ],
      "metadata": {}
    },
    {
      "cell_type": "code",
      "execution_count": 20,
      "source": [
        "%%time\n",
        "initial_node = Node(np.array([[1, 2, 3], [4, 0, 5], [7, 8, 6]]), None, None, 0)\n",
        "A_star(initial_node, misplaced_tiles)"
      ],
      "outputs": [
        {
          "output_type": "stream",
          "name": "stdout",
          "text": [
            "Final State Obtained\n",
            "Solution: 2 moves\n",
            "===========================\n",
            "Initial Node: \n",
            "None\n",
            "array([[1, 2, 3],\n",
            "       [4, 0, 5],\n",
            "       [7, 8, 6]])\n",
            "right\n",
            "array([[1, 2, 3],\n",
            "       [4, 5, 0],\n",
            "       [7, 8, 6]])\n",
            "down\n",
            "array([[1, 2, 3],\n",
            "       [4, 5, 6],\n",
            "       [7, 8, 0]])\n",
            "CPU times: user 3.28 ms, sys: 0 ns, total: 3.28 ms\n",
            "Wall time: 3.43 ms\n"
          ]
        },
        {
          "output_type": "execute_result",
          "data": {
            "text/plain": [
              "True"
            ]
          },
          "metadata": {},
          "execution_count": 20
        }
      ],
      "metadata": {}
    },
    {
      "cell_type": "code",
      "execution_count": 21,
      "source": [
        "%%time\n",
        "initial_node = Node(np.array([[1, 8, 2], [4, 6, 3],[0, 7, 5]]), None, None, 0)\n",
        "A_star(initial_node, misplaced_tiles)"
      ],
      "outputs": [
        {
          "output_type": "stream",
          "name": "stdout",
          "text": [
            "Final State Obtained\n",
            "Solution: 10 moves\n",
            "===========================\n",
            "Initial Node: \n",
            "None\n",
            "array([[1, 8, 2],\n",
            "       [4, 6, 3],\n",
            "       [0, 7, 5]])\n",
            "right\n",
            "array([[1, 8, 2],\n",
            "       [4, 6, 3],\n",
            "       [7, 0, 5]])\n",
            "up\n",
            "array([[1, 8, 2],\n",
            "       [4, 0, 3],\n",
            "       [7, 6, 5]])\n",
            "up\n",
            "array([[1, 0, 2],\n",
            "       [4, 8, 3],\n",
            "       [7, 6, 5]])\n",
            "right\n",
            "array([[1, 2, 0],\n",
            "       [4, 8, 3],\n",
            "       [7, 6, 5]])\n",
            "down\n",
            "array([[1, 2, 3],\n",
            "       [4, 8, 0],\n",
            "       [7, 6, 5]])\n",
            "down\n",
            "array([[1, 2, 3],\n",
            "       [4, 8, 5],\n",
            "       [7, 6, 0]])\n",
            "left\n",
            "array([[1, 2, 3],\n",
            "       [4, 8, 5],\n",
            "       [7, 0, 6]])\n",
            "up\n",
            "array([[1, 2, 3],\n",
            "       [4, 0, 5],\n",
            "       [7, 8, 6]])\n",
            "right\n",
            "array([[1, 2, 3],\n",
            "       [4, 5, 0],\n",
            "       [7, 8, 6]])\n",
            "down\n",
            "array([[1, 2, 3],\n",
            "       [4, 5, 6],\n",
            "       [7, 8, 0]])\n",
            "CPU times: user 13.2 ms, sys: 2.76 ms, total: 16 ms\n",
            "Wall time: 18.6 ms\n"
          ]
        },
        {
          "output_type": "execute_result",
          "data": {
            "text/plain": [
              "True"
            ]
          },
          "metadata": {},
          "execution_count": 21
        }
      ],
      "metadata": {}
    },
    {
      "cell_type": "code",
      "execution_count": 22,
      "source": [
        "%%time\n",
        "initial_node = Node(np.array([[4, 1, 8],[7, 2, 6],[0, 3, 5]]), None, None, 0)\n",
        "A_star(initial_node, manhattan_distance)"
      ],
      "outputs": [
        {
          "output_type": "stream",
          "name": "stdout",
          "text": [
            "Final State Obtained\n",
            "Solution: 18 moves\n",
            "===========================\n",
            "Initial Node: \n",
            "None\n",
            "array([[4, 1, 8],\n",
            "       [7, 2, 6],\n",
            "       [0, 3, 5]])\n",
            "up\n",
            "array([[4, 1, 8],\n",
            "       [0, 2, 6],\n",
            "       [7, 3, 5]])\n",
            "up\n",
            "array([[0, 1, 8],\n",
            "       [4, 2, 6],\n",
            "       [7, 3, 5]])\n",
            "right\n",
            "array([[1, 0, 8],\n",
            "       [4, 2, 6],\n",
            "       [7, 3, 5]])\n",
            "down\n",
            "array([[1, 2, 8],\n",
            "       [4, 0, 6],\n",
            "       [7, 3, 5]])\n",
            "right\n",
            "array([[1, 2, 8],\n",
            "       [4, 6, 0],\n",
            "       [7, 3, 5]])\n",
            "up\n",
            "array([[1, 2, 0],\n",
            "       [4, 6, 8],\n",
            "       [7, 3, 5]])\n",
            "left\n",
            "array([[1, 0, 2],\n",
            "       [4, 6, 8],\n",
            "       [7, 3, 5]])\n",
            "down\n",
            "array([[1, 6, 2],\n",
            "       [4, 0, 8],\n",
            "       [7, 3, 5]])\n",
            "down\n",
            "array([[1, 6, 2],\n",
            "       [4, 3, 8],\n",
            "       [7, 0, 5]])\n",
            "right\n",
            "array([[1, 6, 2],\n",
            "       [4, 3, 8],\n",
            "       [7, 5, 0]])\n",
            "up\n",
            "array([[1, 6, 2],\n",
            "       [4, 3, 0],\n",
            "       [7, 5, 8]])\n",
            "left\n",
            "array([[1, 6, 2],\n",
            "       [4, 0, 3],\n",
            "       [7, 5, 8]])\n",
            "up\n",
            "array([[1, 0, 2],\n",
            "       [4, 6, 3],\n",
            "       [7, 5, 8]])\n",
            "right\n",
            "array([[1, 2, 0],\n",
            "       [4, 6, 3],\n",
            "       [7, 5, 8]])\n",
            "down\n",
            "array([[1, 2, 3],\n",
            "       [4, 6, 0],\n",
            "       [7, 5, 8]])\n",
            "left\n",
            "array([[1, 2, 3],\n",
            "       [4, 0, 6],\n",
            "       [7, 5, 8]])\n",
            "down\n",
            "array([[1, 2, 3],\n",
            "       [4, 5, 6],\n",
            "       [7, 0, 8]])\n",
            "right\n",
            "array([[1, 2, 3],\n",
            "       [4, 5, 6],\n",
            "       [7, 8, 0]])\n",
            "CPU times: user 49.7 ms, sys: 186 µs, total: 49.9 ms\n",
            "Wall time: 51.8 ms\n"
          ]
        },
        {
          "output_type": "execute_result",
          "data": {
            "text/plain": [
              "True"
            ]
          },
          "metadata": {},
          "execution_count": 22
        }
      ],
      "metadata": {}
    },
    {
      "cell_type": "code",
      "execution_count": 23,
      "source": [
        "%%time\n",
        "initial_node = Node(np.array([[3, 5, 0],[8, 7, 2],[6, 4, 1]]), None, None, 0)\n",
        "A_star(initial_node, misplaced_tiles)"
      ],
      "outputs": [
        {
          "output_type": "stream",
          "name": "stdout",
          "text": [
            "Final State Obtained\n",
            "Solution: 24 moves\n",
            "===========================\n",
            "Initial Node: \n",
            "None\n",
            "array([[3, 5, 0],\n",
            "       [8, 7, 2],\n",
            "       [6, 4, 1]])\n",
            "down\n",
            "array([[3, 5, 2],\n",
            "       [8, 7, 0],\n",
            "       [6, 4, 1]])\n",
            "down\n",
            "array([[3, 5, 2],\n",
            "       [8, 7, 1],\n",
            "       [6, 4, 0]])\n",
            "left\n",
            "array([[3, 5, 2],\n",
            "       [8, 7, 1],\n",
            "       [6, 0, 4]])\n",
            "left\n",
            "array([[3, 5, 2],\n",
            "       [8, 7, 1],\n",
            "       [0, 6, 4]])\n",
            "up\n",
            "array([[3, 5, 2],\n",
            "       [0, 7, 1],\n",
            "       [8, 6, 4]])\n",
            "right\n",
            "array([[3, 5, 2],\n",
            "       [7, 0, 1],\n",
            "       [8, 6, 4]])\n",
            "right\n",
            "array([[3, 5, 2],\n",
            "       [7, 1, 0],\n",
            "       [8, 6, 4]])\n",
            "down\n",
            "array([[3, 5, 2],\n",
            "       [7, 1, 4],\n",
            "       [8, 6, 0]])\n",
            "left\n",
            "array([[3, 5, 2],\n",
            "       [7, 1, 4],\n",
            "       [8, 0, 6]])\n",
            "left\n",
            "array([[3, 5, 2],\n",
            "       [7, 1, 4],\n",
            "       [0, 8, 6]])\n",
            "up\n",
            "array([[3, 5, 2],\n",
            "       [0, 1, 4],\n",
            "       [7, 8, 6]])\n",
            "right\n",
            "array([[3, 5, 2],\n",
            "       [1, 0, 4],\n",
            "       [7, 8, 6]])\n",
            "right\n",
            "array([[3, 5, 2],\n",
            "       [1, 4, 0],\n",
            "       [7, 8, 6]])\n",
            "up\n",
            "array([[3, 5, 0],\n",
            "       [1, 4, 2],\n",
            "       [7, 8, 6]])\n",
            "left\n",
            "array([[3, 0, 5],\n",
            "       [1, 4, 2],\n",
            "       [7, 8, 6]])\n",
            "left\n",
            "array([[0, 3, 5],\n",
            "       [1, 4, 2],\n",
            "       [7, 8, 6]])\n",
            "down\n",
            "array([[1, 3, 5],\n",
            "       [0, 4, 2],\n",
            "       [7, 8, 6]])\n",
            "right\n",
            "array([[1, 3, 5],\n",
            "       [4, 0, 2],\n",
            "       [7, 8, 6]])\n",
            "right\n",
            "array([[1, 3, 5],\n",
            "       [4, 2, 0],\n",
            "       [7, 8, 6]])\n",
            "up\n",
            "array([[1, 3, 0],\n",
            "       [4, 2, 5],\n",
            "       [7, 8, 6]])\n",
            "left\n",
            "array([[1, 0, 3],\n",
            "       [4, 2, 5],\n",
            "       [7, 8, 6]])\n",
            "down\n",
            "array([[1, 2, 3],\n",
            "       [4, 0, 5],\n",
            "       [7, 8, 6]])\n",
            "right\n",
            "array([[1, 2, 3],\n",
            "       [4, 5, 0],\n",
            "       [7, 8, 6]])\n",
            "down\n",
            "array([[1, 2, 3],\n",
            "       [4, 5, 6],\n",
            "       [7, 8, 0]])\n",
            "CPU times: user 4min 52s, sys: 1.44 s, total: 4min 54s\n",
            "Wall time: 4min 58s\n"
          ]
        },
        {
          "output_type": "execute_result",
          "data": {
            "text/plain": [
              "True"
            ]
          },
          "metadata": {},
          "execution_count": 23
        }
      ],
      "metadata": {}
    },
    {
      "cell_type": "code",
      "execution_count": 24,
      "source": [
        "%%time\n",
        "initial_node = Node(np.array([[3, 5, 0],[8, 7, 2],[6, 4, 1]]), None, None, 0)\n",
        "A_star(initial_node, manhattan_distance)"
      ],
      "outputs": [
        {
          "output_type": "stream",
          "name": "stdout",
          "text": [
            "Final State Obtained\n",
            "Solution: 24 moves\n",
            "===========================\n",
            "Initial Node: \n",
            "None\n",
            "array([[3, 5, 0],\n",
            "       [8, 7, 2],\n",
            "       [6, 4, 1]])\n",
            "down\n",
            "array([[3, 5, 2],\n",
            "       [8, 7, 0],\n",
            "       [6, 4, 1]])\n",
            "down\n",
            "array([[3, 5, 2],\n",
            "       [8, 7, 1],\n",
            "       [6, 4, 0]])\n",
            "left\n",
            "array([[3, 5, 2],\n",
            "       [8, 7, 1],\n",
            "       [6, 0, 4]])\n",
            "left\n",
            "array([[3, 5, 2],\n",
            "       [8, 7, 1],\n",
            "       [0, 6, 4]])\n",
            "up\n",
            "array([[3, 5, 2],\n",
            "       [0, 7, 1],\n",
            "       [8, 6, 4]])\n",
            "right\n",
            "array([[3, 5, 2],\n",
            "       [7, 0, 1],\n",
            "       [8, 6, 4]])\n",
            "right\n",
            "array([[3, 5, 2],\n",
            "       [7, 1, 0],\n",
            "       [8, 6, 4]])\n",
            "down\n",
            "array([[3, 5, 2],\n",
            "       [7, 1, 4],\n",
            "       [8, 6, 0]])\n",
            "left\n",
            "array([[3, 5, 2],\n",
            "       [7, 1, 4],\n",
            "       [8, 0, 6]])\n",
            "left\n",
            "array([[3, 5, 2],\n",
            "       [7, 1, 4],\n",
            "       [0, 8, 6]])\n",
            "up\n",
            "array([[3, 5, 2],\n",
            "       [0, 1, 4],\n",
            "       [7, 8, 6]])\n",
            "right\n",
            "array([[3, 5, 2],\n",
            "       [1, 0, 4],\n",
            "       [7, 8, 6]])\n",
            "right\n",
            "array([[3, 5, 2],\n",
            "       [1, 4, 0],\n",
            "       [7, 8, 6]])\n",
            "up\n",
            "array([[3, 5, 0],\n",
            "       [1, 4, 2],\n",
            "       [7, 8, 6]])\n",
            "left\n",
            "array([[3, 0, 5],\n",
            "       [1, 4, 2],\n",
            "       [7, 8, 6]])\n",
            "left\n",
            "array([[0, 3, 5],\n",
            "       [1, 4, 2],\n",
            "       [7, 8, 6]])\n",
            "down\n",
            "array([[1, 3, 5],\n",
            "       [0, 4, 2],\n",
            "       [7, 8, 6]])\n",
            "right\n",
            "array([[1, 3, 5],\n",
            "       [4, 0, 2],\n",
            "       [7, 8, 6]])\n",
            "right\n",
            "array([[1, 3, 5],\n",
            "       [4, 2, 0],\n",
            "       [7, 8, 6]])\n",
            "up\n",
            "array([[1, 3, 0],\n",
            "       [4, 2, 5],\n",
            "       [7, 8, 6]])\n",
            "left\n",
            "array([[1, 0, 3],\n",
            "       [4, 2, 5],\n",
            "       [7, 8, 6]])\n",
            "down\n",
            "array([[1, 2, 3],\n",
            "       [4, 0, 5],\n",
            "       [7, 8, 6]])\n",
            "right\n",
            "array([[1, 2, 3],\n",
            "       [4, 5, 0],\n",
            "       [7, 8, 6]])\n",
            "down\n",
            "array([[1, 2, 3],\n",
            "       [4, 5, 6],\n",
            "       [7, 8, 0]])\n",
            "CPU times: user 623 ms, sys: 3.97 ms, total: 627 ms\n",
            "Wall time: 639 ms\n"
          ]
        },
        {
          "output_type": "execute_result",
          "data": {
            "text/plain": [
              "True"
            ]
          },
          "metadata": {},
          "execution_count": 24
        }
      ],
      "metadata": {}
    }
  ]
}