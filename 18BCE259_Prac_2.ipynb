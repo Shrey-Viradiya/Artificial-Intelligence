{
  "nbformat": 4,
  "nbformat_minor": 2,
  "metadata": {
    "orig_nbformat": 4,
    "language_info": {
      "name": "python",
      "version": "3.8.10",
      "mimetype": "text/x-python",
      "codemirror_mode": {
        "name": "ipython",
        "version": 3
      },
      "pygments_lexer": "ipython3",
      "nbconvert_exporter": "python",
      "file_extension": ".py"
    },
    "kernelspec": {
      "name": "python3",
      "display_name": "Python 3.8.10 64-bit ('AI': venv)"
    },
    "interpreter": {
      "hash": "0ce71f0e572107b82f456cc862a5ea5bb83cb9ad173f20b1beeab8973639bcf8"
    },
    "colab": {
      "name": "18BCE259_Prac_2.ipynb",
      "provenance": []
    }
  },
  "cells": [
    {
      "cell_type": "markdown",
      "source": [
        "# Artificial Intelligence Practical 2"
      ],
      "metadata": {
        "id": "Vd2p9EfVxb-m"
      }
    },
    {
      "cell_type": "markdown",
      "source": [
        "## 18BCE259: Shrey Viradiya"
      ],
      "metadata": {
        "id": "pYrxUu2dxb-q"
      }
    },
    {
      "cell_type": "markdown",
      "source": [
        "### AIM: Implement the 8 puzzle problem using BFS"
      ],
      "metadata": {
        "id": "phdkOMHBxb-r"
      }
    },
    {
      "cell_type": "markdown",
      "source": [
        "8 puzzle problem is about reaching the final state from any intermediary state. Final State is defined as below:\n",
        "```\n",
        " 1 | 2 | 3 \n",
        "-----------\n",
        " 4 | 5 | 6 \n",
        "-----------\n",
        " 7 | 8 |   \n",
        " ```"
      ],
      "metadata": {
        "id": "U1jNzddMxb-s"
      }
    },
    {
      "cell_type": "code",
      "execution_count": 1,
      "source": [
        "import numpy as np"
      ],
      "outputs": [],
      "metadata": {
        "id": "nyRob1lExb-s"
      }
    },
    {
      "cell_type": "code",
      "execution_count": 2,
      "source": [
        "class Node:\n",
        "    def __init__(self, data, parent, act):\n",
        "        self.data = data\n",
        "        self.parent = parent\n",
        "        self.act = act\n",
        "\n",
        "    def __str__(self):\n",
        "        return self.data.__repr__() "
      ],
      "outputs": [],
      "metadata": {
        "id": "XoHfVcR4xb-t"
      }
    },
    {
      "cell_type": "code",
      "execution_count": 3,
      "source": [
        "initial_node = Node(np.array([[1,2,3],[4,0,6],[7,5,8]]), None, None)"
      ],
      "outputs": [],
      "metadata": {
        "id": "-sL971tExb-u"
      }
    },
    {
      "cell_type": "code",
      "execution_count": 4,
      "source": [
        "def whereEmpty(node):\n",
        "    return np.argwhere(node.data == 0)[0]\n",
        "\n",
        "whereEmpty(initial_node)"
      ],
      "outputs": [
        {
          "output_type": "execute_result",
          "data": {
            "text/plain": [
              "array([1, 1])"
            ]
          },
          "metadata": {},
          "execution_count": 4
        }
      ],
      "metadata": {
        "id": "wcIvaQ1vxb-u",
        "outputId": "e3611126-763d-4fef-d7ad-319812bee69e",
        "colab": {
          "base_uri": "https://localhost:8080/"
        }
      }
    },
    {
      "cell_type": "code",
      "execution_count": 5,
      "source": [
        "print(initial_node)"
      ],
      "outputs": [
        {
          "output_type": "stream",
          "name": "stdout",
          "text": [
            "array([[1, 2, 3],\n",
            "       [4, 0, 6],\n",
            "       [7, 5, 8]])\n"
          ]
        }
      ],
      "metadata": {
        "id": "zmR4p4oQxb-w",
        "outputId": "09d600c3-e430-4b5c-dc7f-879e5a5ab416",
        "colab": {
          "base_uri": "https://localhost:8080/"
        }
      }
    },
    {
      "cell_type": "code",
      "execution_count": 6,
      "source": [
        "def canMoveLeft(node):\n",
        "    return whereEmpty(node)[1] != 0\n",
        "\n",
        "def moveLeft(node):\n",
        "    pointer = whereEmpty(node)\n",
        "    new_Node = Node(np.copy(node.data), node, 'left')    \n",
        "\n",
        "    temp = new_Node.data[pointer[0], pointer[1] - 1]\n",
        "    new_Node.data[pointer[0], pointer[1] - 1] = new_Node.data[pointer[0], pointer[1]]\n",
        "    new_Node.data[pointer[0], pointer[1]] = temp\n",
        "    \n",
        "    return new_Node\n",
        "\n",
        "print(canMoveLeft(initial_node))\n",
        "print(moveLeft(initial_node))"
      ],
      "outputs": [
        {
          "output_type": "stream",
          "name": "stdout",
          "text": [
            "True\n",
            "array([[1, 2, 3],\n",
            "       [0, 4, 6],\n",
            "       [7, 5, 8]])\n"
          ]
        }
      ],
      "metadata": {
        "id": "N2jjX00yxb-w",
        "outputId": "ce40840b-fe0f-4fdf-a333-f6c07b43ece8",
        "colab": {
          "base_uri": "https://localhost:8080/"
        }
      }
    },
    {
      "cell_type": "code",
      "execution_count": 7,
      "source": [
        "def canMoveRight(node):\n",
        "    return whereEmpty(node)[1] != 2\n",
        "\n",
        "def moveRight(node):\n",
        "    pointer = whereEmpty(node)\n",
        "    new_Node = Node(np.copy(node.data), node, 'right')\n",
        "    \n",
        "    temp = new_Node.data[pointer[0], pointer[1] + 1]\n",
        "    new_Node.data[pointer[0], pointer[1] + 1] = new_Node.data[pointer[0], pointer[1]]\n",
        "    new_Node.data[pointer[0], pointer[1]] = temp\n",
        "    \n",
        "    return new_Node\n",
        "\n",
        "print(canMoveRight(initial_node))\n",
        "print(moveRight(initial_node))"
      ],
      "outputs": [
        {
          "output_type": "stream",
          "name": "stdout",
          "text": [
            "True\n",
            "array([[1, 2, 3],\n",
            "       [4, 6, 0],\n",
            "       [7, 5, 8]])\n"
          ]
        }
      ],
      "metadata": {
        "id": "08whK2sJxb-x",
        "outputId": "a349490c-665f-43b9-d807-39763f3a33a2",
        "colab": {
          "base_uri": "https://localhost:8080/"
        }
      }
    },
    {
      "cell_type": "code",
      "execution_count": 8,
      "source": [
        "def canMoveUp(node):\n",
        "    return whereEmpty(node)[0] != 0\n",
        "\n",
        "def moveUp(node):\n",
        "    pointer = whereEmpty(node)\n",
        "    \n",
        "    new_Node = Node(np.copy(node.data), node, 'up')\n",
        "    \n",
        "\n",
        "    temp = new_Node.data[pointer[0] - 1, pointer[1]]\n",
        "    new_Node.data[pointer[0] - 1, pointer[1]] = new_Node.data[pointer[0], pointer[1]]\n",
        "    new_Node.data[pointer[0], pointer[1]] = temp\n",
        "    \n",
        "    return new_Node\n",
        "\n",
        "print(canMoveUp(initial_node))\n",
        "print(moveUp(initial_node))"
      ],
      "outputs": [
        {
          "output_type": "stream",
          "name": "stdout",
          "text": [
            "True\n",
            "array([[1, 0, 3],\n",
            "       [4, 2, 6],\n",
            "       [7, 5, 8]])\n"
          ]
        }
      ],
      "metadata": {
        "id": "6kwiHt6Jxb-x",
        "outputId": "d0c80511-7062-45cf-e2eb-59d6e1c59701",
        "colab": {
          "base_uri": "https://localhost:8080/"
        }
      }
    },
    {
      "cell_type": "code",
      "execution_count": 9,
      "source": [
        "def canMoveDown(node):\n",
        "    return whereEmpty(node)[0] != 2\n",
        "\n",
        "def moveDown(node):\n",
        "    pointer = whereEmpty(node)\n",
        "    new_Node = Node(np.copy(node.data), node, 'down')\n",
        "\n",
        "    temp = new_Node.data[pointer[0] + 1, pointer[1]]\n",
        "    new_Node.data[pointer[0] + 1, pointer[1]] = new_Node.data[pointer[0], pointer[1]]\n",
        "    new_Node.data[pointer[0], pointer[1]] = temp\n",
        "    \n",
        "    return new_Node\n",
        "\n",
        "print(canMoveDown(initial_node))\n",
        "print(moveDown(initial_node))"
      ],
      "outputs": [
        {
          "output_type": "stream",
          "name": "stdout",
          "text": [
            "True\n",
            "array([[1, 2, 3],\n",
            "       [4, 5, 6],\n",
            "       [7, 0, 8]])\n"
          ]
        }
      ],
      "metadata": {
        "id": "r4Vvzf1hxb-y",
        "outputId": "d824a9ba-d4eb-4732-a889-3a69003ce148",
        "colab": {
          "base_uri": "https://localhost:8080/"
        }
      }
    },
    {
      "cell_type": "code",
      "execution_count": 10,
      "source": [
        "def CheckIfFinal(node):\n",
        "    return np.all(node.data == np.array([[1,2,3],[4,5,6],[7,8,0]]))\n",
        "\n",
        "CheckIfFinal(initial_node)"
      ],
      "outputs": [
        {
          "output_type": "execute_result",
          "data": {
            "text/plain": [
              "False"
            ]
          },
          "metadata": {},
          "execution_count": 10
        }
      ],
      "metadata": {
        "id": "ZgjZlp8Hxb-y",
        "outputId": "17e55821-d9c5-43af-f116-5b8a4fc9655b",
        "colab": {
          "base_uri": "https://localhost:8080/"
        }
      }
    },
    {
      "cell_type": "code",
      "execution_count": 11,
      "source": [
        "def getInvCount(arr):\n",
        "    inv_count = 0\n",
        "    empty_value = -1\n",
        "    for i in range(0, 9):\n",
        "        for j in range(i + 1, 9):\n",
        "            if arr[j] != empty_value and arr[i] != empty_value and arr[i] > arr[j]:\n",
        "                inv_count += 1\n",
        "    return inv_count\n",
        " \n",
        "     \n",
        "# This function returns true\n",
        "# if given 8 puzzle is solvable.\n",
        "def isSolvable(puzzle) :\n",
        " \n",
        "    # Count inversions in given 8 puzzle\n",
        "    inv_count = getInvCount([j for sub in puzzle for j in sub])\n",
        " \n",
        "    # return true if inversion count is even.\n",
        "    return (inv_count % 2 == 0)\n",
        "     \n",
        "    # Driver code\n",
        "puzzle = [[4, 1, 0], [7, 2, 3], [5, 8, 6]]\n",
        "if(isSolvable(puzzle)) :\n",
        "    print(\"Solvable\")\n",
        "else :\n",
        "    print(\"Not Solvable\")"
      ],
      "outputs": [
        {
          "output_type": "stream",
          "name": "stdout",
          "text": [
            "Solvable\n"
          ]
        }
      ],
      "metadata": {
        "id": "Gk6nMvBmzbij",
        "outputId": "9a94fc99-a9c7-432f-e0a2-0d14cb728414",
        "colab": {
          "base_uri": "https://localhost:8080/"
        }
      }
    },
    {
      "cell_type": "code",
      "execution_count": 12,
      "source": [
        "def BFS(initial_node):\n",
        "    \n",
        "    if(not isSolvable(initial_node.data)):\n",
        "        print(\"Puzzle Not Solvable\")\n",
        "        return\n",
        "\n",
        "    passed_node = []\n",
        "    Queue = [initial_node]\n",
        "\n",
        "    node = None\n",
        "\n",
        "    while True:\n",
        "        node = Queue.pop(0)\n",
        "\n",
        "        if(CheckIfFinal(node)):\n",
        "            print(\"Final State Obtained\")\n",
        "            break\n",
        "        \n",
        "        if canMoveLeft(node) and node.act != \"right\":\n",
        "            node_l = moveLeft(node)\n",
        "            if(CheckIfFinal(node_l)):\n",
        "                print(\"Final State Obtained\")\n",
        "                node = node_l\n",
        "                break\n",
        "            Queue.append(node_l)\n",
        "        if canMoveRight(node) and node.act != \"left\":\n",
        "            node_r = moveRight(node)\n",
        "            if(CheckIfFinal(node_r)):\n",
        "                print(\"Final State Obtained\")\n",
        "                node = node_r\n",
        "                break\n",
        "            Queue.append(node_r)\n",
        "        if canMoveUp(node) and node.act != \"down\":\n",
        "            node_u = moveUp(node)\n",
        "            if(CheckIfFinal(node_u)):\n",
        "                print(\"Final State Obtained\")\n",
        "                node = node_u\n",
        "                break\n",
        "            Queue.append(node_u)\n",
        "        if canMoveDown(node) and node.act != \"up\":\n",
        "            node_d = moveDown(node)\n",
        "            if(CheckIfFinal(node_d)):\n",
        "                print(\"Final State Obtained\")\n",
        "                node = node_d\n",
        "                break\n",
        "            Queue.append(node_d)\n",
        "\n",
        "    moves = []\n",
        "    while (node != None):\n",
        "        moves.insert(0, node.act)\n",
        "        node = node.parent\n",
        "\n",
        "    print(f\"Solution: {len(moves) - 1} moves\")\n",
        "    print(\"===========================\")\n",
        "    print(\"Initial Node: \")\n",
        "\n",
        "    node = initial_node\n",
        "    for move in moves:\n",
        "        print(move)\n",
        "        if move == 'left':\n",
        "            node = moveLeft(node)\n",
        "        elif move == 'right':\n",
        "            node = moveRight(node)\n",
        "        elif move == 'up':\n",
        "            node = moveUp(node)\n",
        "        elif move == 'down':\n",
        "            node = moveDown(node)\n",
        "        print(node)"
      ],
      "outputs": [],
      "metadata": {
        "id": "B3t8tg8gxb-z"
      }
    },
    {
      "cell_type": "code",
      "execution_count": 13,
      "source": [
        "BFS(initial_node)"
      ],
      "outputs": [
        {
          "output_type": "stream",
          "name": "stdout",
          "text": [
            "Final State Obtained\n",
            "Solution: 2 moves\n",
            "===========================\n",
            "Initial Node: \n",
            "None\n",
            "array([[1, 2, 3],\n",
            "       [4, 0, 6],\n",
            "       [7, 5, 8]])\n",
            "down\n",
            "array([[1, 2, 3],\n",
            "       [4, 5, 6],\n",
            "       [7, 0, 8]])\n",
            "right\n",
            "array([[1, 2, 3],\n",
            "       [4, 5, 6],\n",
            "       [7, 8, 0]])\n"
          ]
        }
      ],
      "metadata": {}
    },
    {
      "cell_type": "code",
      "execution_count": 14,
      "source": [
        "%%time\n",
        "initial_node = Node(np.array([[4, 3, 6], [2, 0, 1], [7, 5, 8]]), None, None)\n",
        "BFS(initial_node)"
      ],
      "outputs": [
        {
          "output_type": "stream",
          "name": "stdout",
          "text": [
            "Final State Obtained\n",
            "Solution: 10 moves\n",
            "===========================\n",
            "Initial Node: \n",
            "None\n",
            "array([[4, 3, 6],\n",
            "       [2, 0, 1],\n",
            "       [7, 5, 8]])\n",
            "right\n",
            "array([[4, 3, 6],\n",
            "       [2, 1, 0],\n",
            "       [7, 5, 8]])\n",
            "up\n",
            "array([[4, 3, 0],\n",
            "       [2, 1, 6],\n",
            "       [7, 5, 8]])\n",
            "left\n",
            "array([[4, 0, 3],\n",
            "       [2, 1, 6],\n",
            "       [7, 5, 8]])\n",
            "down\n",
            "array([[4, 1, 3],\n",
            "       [2, 0, 6],\n",
            "       [7, 5, 8]])\n",
            "left\n",
            "array([[4, 1, 3],\n",
            "       [0, 2, 6],\n",
            "       [7, 5, 8]])\n",
            "up\n",
            "array([[0, 1, 3],\n",
            "       [4, 2, 6],\n",
            "       [7, 5, 8]])\n",
            "right\n",
            "array([[1, 0, 3],\n",
            "       [4, 2, 6],\n",
            "       [7, 5, 8]])\n",
            "down\n",
            "array([[1, 2, 3],\n",
            "       [4, 0, 6],\n",
            "       [7, 5, 8]])\n",
            "down\n",
            "array([[1, 2, 3],\n",
            "       [4, 5, 6],\n",
            "       [7, 0, 8]])\n",
            "right\n",
            "array([[1, 2, 3],\n",
            "       [4, 5, 6],\n",
            "       [7, 8, 0]])\n",
            "CPU times: user 79.2 ms, sys: 1.51 ms, total: 80.7 ms\n",
            "Wall time: 77.5 ms\n"
          ]
        }
      ],
      "metadata": {
        "id": "egb1axkLxb-z"
      }
    },
    {
      "cell_type": "code",
      "execution_count": 15,
      "source": [
        "%%time\n",
        "initial_node = Node(np.array([[0,1,2],[4,5,3],[7,8,6]]), None, None)\n",
        "BFS(initial_node)"
      ],
      "outputs": [
        {
          "output_type": "stream",
          "name": "stdout",
          "text": [
            "Final State Obtained\n",
            "Solution: 4 moves\n",
            "===========================\n",
            "Initial Node: \n",
            "None\n",
            "array([[0, 1, 2],\n",
            "       [4, 5, 3],\n",
            "       [7, 8, 6]])\n",
            "right\n",
            "array([[1, 0, 2],\n",
            "       [4, 5, 3],\n",
            "       [7, 8, 6]])\n",
            "right\n",
            "array([[1, 2, 0],\n",
            "       [4, 5, 3],\n",
            "       [7, 8, 6]])\n",
            "down\n",
            "array([[1, 2, 3],\n",
            "       [4, 5, 0],\n",
            "       [7, 8, 6]])\n",
            "down\n",
            "array([[1, 2, 3],\n",
            "       [4, 5, 6],\n",
            "       [7, 8, 0]])\n",
            "CPU times: user 5.16 ms, sys: 258 µs, total: 5.42 ms\n",
            "Wall time: 5.02 ms\n"
          ]
        }
      ],
      "metadata": {
        "id": "SVZ1qNNsxb-0"
      }
    },
    {
      "cell_type": "code",
      "execution_count": 16,
      "source": [
        "%%time\n",
        "initial_node = Node(np.array([[1, 2, 3], [4, 0, 5], [7, 8, 6]]), None, None)\n",
        "BFS(initial_node)"
      ],
      "outputs": [
        {
          "output_type": "stream",
          "name": "stdout",
          "text": [
            "Final State Obtained\n",
            "Solution: 2 moves\n",
            "===========================\n",
            "Initial Node: \n",
            "None\n",
            "array([[1, 2, 3],\n",
            "       [4, 0, 5],\n",
            "       [7, 8, 6]])\n",
            "right\n",
            "array([[1, 2, 3],\n",
            "       [4, 5, 0],\n",
            "       [7, 8, 6]])\n",
            "down\n",
            "array([[1, 2, 3],\n",
            "       [4, 5, 6],\n",
            "       [7, 8, 0]])\n",
            "CPU times: user 4.29 ms, sys: 52 µs, total: 4.34 ms\n",
            "Wall time: 4.23 ms\n"
          ]
        }
      ],
      "metadata": {}
    },
    {
      "cell_type": "code",
      "execution_count": null,
      "source": [
        "initial_node = Node(np.array([[1,2,3],[4,6,5],[7,0,8]]), None, None)\n",
        "BFS(initial_node)"
      ],
      "outputs": [],
      "metadata": {
        "id": "R2DXVtZ310J6"
      }
    }
  ]
}